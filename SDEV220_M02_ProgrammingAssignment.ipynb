{
 "cells": [
  {
   "cell_type": "code",
   "execution_count": 159,
   "metadata": {},
   "outputs": [
    {
     "name": "stdout",
     "output_type": "stream",
     "text": [
      "Secret = 9\n",
      "Guess = 9\n",
      "Just right!\n"
     ]
    }
   ],
   "source": [
    "# Import random module\n",
    "import random\n",
    "\n",
    "# Assign secret to random number.\n",
    "secret = random.randrange(1, 10)\n",
    "guess = random.randrange(1, 10)\n",
    "print(\"Secret =\", secret)\n",
    "print(\"Guess =\", guess)\n",
    "\n",
    "# Test if guess == secret.\n",
    "if (guess > secret):\n",
    "    print(\"Too high!\")\n",
    "elif (guess < secret):\n",
    "    print(\"Too low!\")\n",
    "else:\n",
    "    print(\"Just right!\")"
   ]
  },
  {
   "cell_type": "markdown",
   "metadata": {},
   "source": [
    "4.1"
   ]
  }
 ],
 "metadata": {
  "kernelspec": {
   "display_name": "Python 3",
   "language": "python",
   "name": "python3"
  },
  "language_info": {
   "codemirror_mode": {
    "name": "ipython",
    "version": 3
   },
   "file_extension": ".py",
   "mimetype": "text/x-python",
   "name": "python",
   "nbconvert_exporter": "python",
   "pygments_lexer": "ipython3",
   "version": "3.10.0"
  },
  "orig_nbformat": 4
 },
 "nbformat": 4,
 "nbformat_minor": 2
}
