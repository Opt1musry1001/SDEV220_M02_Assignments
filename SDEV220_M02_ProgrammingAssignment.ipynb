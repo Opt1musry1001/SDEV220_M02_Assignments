{
 "cells": [
  {
   "cell_type": "code",
   "execution_count": 159,
   "metadata": {},
   "outputs": [
    {
     "name": "stdout",
     "output_type": "stream",
     "text": [
      "Secret = 9\n",
      "Guess = 9\n",
      "Just right!\n"
     ]
    }
   ],
   "source": [
    "# Import random module\n",
    "import random\n",
    "\n",
    "# Assign secret to random number.\n",
    "secret = random.randrange(1, 10)\n",
    "guess = random.randrange(1, 10)\n",
    "print(\"Secret =\", secret)\n",
    "print(\"Guess =\", guess)\n",
    "\n",
    "# Test if guess == secret.\n",
    "if (guess > secret):\n",
    "    print(\"Too high!\")\n",
    "elif (guess < secret):\n",
    "    print(\"Too low!\")\n",
    "else:\n",
    "    print(\"Just right!\")"
   ]
  },
  {
   "cell_type": "markdown",
   "metadata": {},
   "source": [
    "4.1"
   ]
  },
  {
   "cell_type": "code",
   "execution_count": 164,
   "metadata": {},
   "outputs": [
    {
     "name": "stdout",
     "output_type": "stream",
     "text": [
      "Watermelon\n"
     ]
    }
   ],
   "source": [
    "# Variable assignment.\n",
    "small = False\n",
    "green = True\n",
    "\n",
    "# Conditional checks to determine fruit.\n",
    "if small and green:\n",
    "    print(\"Pea\")\n",
    "elif small and not green:\n",
    "    print(\"Cherry\")\n",
    "elif not small and green:\n",
    "    print(\"Watermelon\")\n",
    "elif not small and not green:\n",
    "    print(\"Pumpkin\")\n"
   ]
  },
  {
   "cell_type": "markdown",
   "metadata": {},
   "source": [
    "4.2"
   ]
  },
  {
   "cell_type": "code",
   "execution_count": 168,
   "metadata": {},
   "outputs": [
    {
     "name": "stdout",
     "output_type": "stream",
     "text": [
      "3\n",
      "2\n",
      "1\n",
      "0\n"
     ]
    }
   ],
   "source": [
    "# Create list.\n",
    "list = [3, 2, 1, 0]\n",
    "\n",
    "# Print the values in list.\n",
    "for i in list:\n",
    "    print(i)"
   ]
  },
  {
   "cell_type": "markdown",
   "metadata": {},
   "source": [
    "6.1"
   ]
  }
 ],
 "metadata": {
  "kernelspec": {
   "display_name": "Python 3",
   "language": "python",
   "name": "python3"
  },
  "language_info": {
   "codemirror_mode": {
    "name": "ipython",
    "version": 3
   },
   "file_extension": ".py",
   "mimetype": "text/x-python",
   "name": "python",
   "nbconvert_exporter": "python",
   "pygments_lexer": "ipython3",
   "version": "3.10.0"
  },
  "orig_nbformat": 4
 },
 "nbformat": 4,
 "nbformat_minor": 2
}
